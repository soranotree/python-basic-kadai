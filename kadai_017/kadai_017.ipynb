{
  "nbformat": 4,
  "nbformat_minor": 0,
  "metadata": {
    "colab": {
      "provenance": []
    },
    "kernelspec": {
      "name": "python3",
      "display_name": "Python 3"
    },
    "language_info": {
      "name": "python"
    }
  },
  "cells": [
    {
      "cell_type": "code",
      "execution_count": 20,
      "metadata": {
        "colab": {
          "base_uri": "https://localhost:8080/"
        },
        "id": "grpszrLfEQ5Q",
        "outputId": "27ad6fa4-430e-47a6-eac2-2015c01e660d"
      },
      "outputs": [
        {
          "output_type": "stream",
          "name": "stdout",
          "text": [
            "大人ではありません\n",
            "大人です\n",
            "大人です\n",
            "大人ではありません\n",
            "大人です\n",
            "大人です\n",
            "大人です\n",
            "大人です\n",
            "大人ではありません\n",
            "大人ではありません\n",
            "大人です\n",
            "大人です\n"
          ]
        }
      ],
      "source": [
        "class Human:\n",
        "  def __init__(self, name: str, age: int):\n",
        "    self.name = name\n",
        "    self.age = age\n",
        "\n",
        "  def check_adult(self):\n",
        "    if self.age >= 20:\n",
        "      print(\"大人です\")\n",
        "    else:\n",
        "      print(\"大人ではありません\")\n",
        "\n",
        "# Humanクラスのインスタンスを複数作成\n",
        "person_01 = Human(\"鈴木一郎\", 15)\n",
        "person_02 = Human(\"佐々木二郎\", 41)\n",
        "person_03 = Human(\"佐藤三郎\", 24)\n",
        "person_04 = Human(\"田中四郎\", 9)\n",
        "person_05 = Human(\"木村五郎\", 44)\n",
        "person_06 = Human(\"大谷六郎\", 86)\n",
        "person_07 = Human(\"鈴木一浪\", 35)\n",
        "person_08 = Human(\"佐々木二浪\", 22)\n",
        "person_09 = Human(\"佐藤三浪\", 14)\n",
        "person_10 = Human(\"田中四浪\", 3)\n",
        "person_11 = Human(\"木村五浪\", 888)\n",
        "person_12 = Human(\"大谷六浪\", 222)\n",
        "\n",
        "# 作成したインスタンスをリストに追加\n",
        "people = [person_01, person_02, person_03, person_04, person_05, person_06, person_07, person_08, person_09, person_10, person_11, person_12]\n",
        "\n",
        "# リストの要素数分だけcheck_adultメソッドを呼び出し\n",
        "for item in people:\n",
        "  Human(item.name, item.age).check_adult()\n",
        "\n"
      ]
    }
  ]
}