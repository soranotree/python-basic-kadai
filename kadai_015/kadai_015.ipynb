{
  "nbformat": 4,
  "nbformat_minor": 0,
  "metadata": {
    "colab": {
      "provenance": []
    },
    "kernelspec": {
      "name": "python3",
      "display_name": "Python 3"
    },
    "language_info": {
      "name": "python"
    }
  },
  "cells": [
    {
      "cell_type": "code",
      "execution_count": 29,
      "metadata": {
        "colab": {
          "base_uri": "https://localhost:8080/"
        },
        "id": "v05X1AN8T8jw",
        "outputId": "8cbdd6b8-4516-4c8e-fd6b-147cc3fa95b7"
      },
      "outputs": [
        {
          "output_type": "stream",
          "name": "stdout",
          "text": [
            "侍太郎\n",
            "28\n"
          ]
        }
      ],
      "source": [
        "class Human:\n",
        "  def __init__(self, name: str, age: int):\n",
        "    self.name = name\n",
        "    self.age = age\n",
        "\n",
        "  def printinfo(self):\n",
        "    print(self.name)\n",
        "    print(self.age)\n",
        "\n",
        "name = \"侍太郎\"\n",
        "age = 28\n",
        "\n",
        "# インスタンス化\n",
        "samu_taro = Human(name, age)\n",
        "\n",
        "# printinfoメソッドへのアクセス\n",
        "samu_taro.printinfo()\n"
      ]
    }
  ]
}