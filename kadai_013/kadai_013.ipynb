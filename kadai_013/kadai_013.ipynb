{
  "nbformat": 4,
  "nbformat_minor": 0,
  "metadata": {
    "colab": {
      "provenance": []
    },
    "kernelspec": {
      "name": "python3",
      "display_name": "Python 3"
    },
    "language_info": {
      "name": "python"
    }
  },
  "cells": [
    {
      "cell_type": "code",
      "execution_count": 12,
      "metadata": {
        "colab": {
          "base_uri": "https://localhost:8080/"
        },
        "id": "Cbte2OC30TxN",
        "outputId": "d03a3e33-4c7a-4a08-a6cd-4831f2b37ad3"
      },
      "outputs": [
        {
          "output_type": "stream",
          "name": "stdout",
          "text": [
            "550.0\n"
          ]
        }
      ],
      "source": [
        "def get_taxed_total(price, tax_rate):\n",
        "    # 与えられた引数priceに税率tax_rateを適用し、総額を返す\n",
        "    return price * (1 + tax_rate)\n",
        "\n",
        "# 値の設定\n",
        "price = 500\n",
        "tax_rate = 0.1\n",
        "\n",
        "# 関数を呼び出し、引数として購入金額と消費税率を渡す\n",
        "total = get_taxed_total(price, tax_rate)\n",
        "print(total)"
      ]
    }
  ]
}